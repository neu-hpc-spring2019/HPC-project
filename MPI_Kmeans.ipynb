{
 "cells": [
  {
   "cell_type": "code",
   "execution_count": 164,
   "metadata": {},
   "outputs": [],
   "source": [
    "#import all library we need to use\n",
    "from numpy import *\n",
    "from mpi4py import MPI"
   ]
  },
  {
   "cell_type": "code",
   "execution_count": 40,
   "metadata": {},
   "outputs": [],
   "source": [
    "#read size and node number(rank)\n",
    "comm = MPI.COMM_WORLD\n",
    "size = comm.Get_size() #get the number of how many rank we have\n",
    "rank = comm.Get_rank() #get the rank name\n",
    "node_name = MPI.Get_processor_name() # get the name of the node"
   ]
  },
  {
   "cell_type": "code",
   "execution_count": 168,
   "metadata": {},
   "outputs": [],
   "source": [
    "#read data in\n",
    "def load_data(file_name):\n",
    "    data = open(file_name)\n",
    "    data = data.read().splitlines()\n",
    "    result = []\n",
    "    i = data#.readlines(3)\n",
    "        #oline = i.strip().split('\\n')\n",
    "        #fline = map(float, oline)    # 将每个元素转成float类型\n",
    "        #print(fline)\n",
    "    for j in i:\n",
    "        print(j)\n",
    "        j = (j.split(' '))\n",
    "        for k in range(len(j)):\n",
    "            j[k] = int(j[k])\n",
    "        result.append(j) #line)\n",
    "    return result"
   ]
  },
  {
   "cell_type": "code",
   "execution_count": 169,
   "metadata": {},
   "outputs": [
    {
     "name": "stdout",
     "output_type": "stream",
     "text": [
      "1 2\n",
      "3 4\n",
      "5 6\n"
     ]
    }
   ],
   "source": [
    "#process data\n",
    "#determine the value of K in Kmeans\n",
    "def set_K():\n",
    "    max_K= 10 # this means the largest K we will test in our program, default 10\n",
    "    print(\"will try K from 2 to\",max_K,\", do you want to change it?\");\n",
    "    det_ew_K = input(\"y/n: \");\n",
    "    if(det_ew_K == \"y\"):\n",
    "        print(\"Please tell me the value of new K.\");\n",
    "        max_K = int(input(\"new_K: \"));\n",
    "    return max_K\n",
    "\n",
    "#calculate Euclid distance between two points\n",
    "#don't forget normalize your data before you use E distance\n",
    "def E_distance(point_a, point_b):\n",
    "    return sqrt(sum(pow(point_a - point_b,2)))\n",
    "\n",
    "#set the center of each cluster\n",
    "def set_center(data,num_k):\n",
    "    \n",
    "    return \n",
    "\n",
    "#read data in\n",
    "data = [[1,2],[3,4],[5,6],[7,8],[9,10]]#(load_data(\"data.txt\"))\n",
    "#Ready to process\n",
    "#for i in range(1,max_K):\n",
    "\n",
    "    \n",
    "#data_send = [rank]*5\n",
    "#comm.send(data_send,dest=(rank+1)%size)\n",
    "#data_recv =comm.recv(source=(rank-1)%size)\n",
    "#print(\"my rank is %d, and I received:\" % rank)\n",
    "#print(data_recv)"
   ]
  },
  {
   "cell_type": "code",
   "execution_count": 190,
   "metadata": {},
   "outputs": [
    {
     "data": {
      "text/plain": [
       "2"
      ]
     },
     "execution_count": 190,
     "metadata": {},
     "output_type": "execute_result"
    }
   ],
   "source": [
    "#int((data[0,0])[0])\n",
    "#data\n",
    "a = array([1,3])\n",
    "b = array([3,4])\n",
    "pow(4-2,2)\n",
    "shape(data)[1]"
   ]
  },
  {
   "cell_type": "code",
   "execution_count": 195,
   "metadata": {},
   "outputs": [
    {
     "data": {
      "text/plain": [
       "array([[6.97688472, 6.77906377, 8.20422106, 7.77797609, 3.44502591,\n",
       "        1.02533241, 2.86020278, 2.6275827 , 5.49119321, 5.79305172]])"
      ]
     },
     "execution_count": 195,
     "metadata": {},
     "output_type": "execute_result"
    }
   ],
   "source": [
    "#sqrt(sum(pow(a-b,2)))\n",
    "random.rand(1,10)*10"
   ]
  },
  {
   "cell_type": "code",
   "execution_count": null,
   "metadata": {},
   "outputs": [],
   "source": []
  }
 ],
 "metadata": {
  "kernelspec": {
   "display_name": "Python 3",
   "language": "python",
   "name": "python3"
  },
  "language_info": {
   "codemirror_mode": {
    "name": "ipython",
    "version": 3
   },
   "file_extension": ".py",
   "mimetype": "text/x-python",
   "name": "python",
   "nbconvert_exporter": "python",
   "pygments_lexer": "ipython3",
   "version": "3.7.2"
  }
 },
 "nbformat": 4,
 "nbformat_minor": 2
}
