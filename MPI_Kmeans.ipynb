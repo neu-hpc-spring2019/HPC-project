{
 "cells": [
  {
   "cell_type": "code",
   "execution_count": 100,
   "metadata": {},
   "outputs": [],
   "source": [
    "#import all library we need to use\n",
    "#from numpy import *\n",
    "import numpy as np\n",
    "from mpi4py import MPI\n",
    "import matplotlib.pyplot as plt #comment this sentence"
   ]
  },
  {
   "cell_type": "code",
   "execution_count": 4,
   "metadata": {},
   "outputs": [],
   "source": [
    "#read size and node number(rank)\n",
    "comm = MPI.COMM_WORLD\n",
    "size = comm.Get_size() #get the number of how many rank we have\n",
    "rank = comm.Get_rank() #get the rank name\n",
    "node_name = MPI.Get_processor_name() # get the name of the node"
   ]
  },
  {
   "cell_type": "code",
   "execution_count": 168,
   "metadata": {},
   "outputs": [],
   "source": [
    "#read data in\n",
    "def load_data(file_name):\n",
    "    data = open(file_name)\n",
    "    data = data.read().splitlines()\n",
    "    result = []\n",
    "    i = data#.readlines(3)\n",
    "        #oline = i.strip().split('\\n')\n",
    "        #fline = map(float, oline)    # 将每个元素转成float类型\n",
    "        #print(fline)\n",
    "    for j in i:\n",
    "        print(j)\n",
    "        j = (j.split(' '))\n",
    "        for k in range(len(j)):\n",
    "            j[k] = int(j[k])\n",
    "        result.append(j) #line)\n",
    "    return result"
   ]
  },
  {
   "cell_type": "code",
   "execution_count": 178,
   "metadata": {},
   "outputs": [],
   "source": [
    "#process data\n",
    "#determine the value of K in Kmeans\n",
    "def set_K():\n",
    "    max_K= 10 # this means the largest K we will test in our program, default 10\n",
    "    print(\"will try K from 2 to\",max_K,\", do you want to change it?\");\n",
    "    det_ew_K = input(\"y/n: \");\n",
    "    if(det_ew_K == \"y\"):\n",
    "        print(\"Please tell me the value of new K.\");\n",
    "        max_K = int(input(\"new_K: \"));\n",
    "    return max_K\n",
    "\n",
    "#calculate Euclid distance between two points\n",
    "#don't forget normalize your data before you use E distance\n",
    "def E_distance(point_a, point_b):\n",
    "    return sqrt(sum(pow(point_a - point_b,2)))\n",
    "\n",
    "#set the center of each cluster\n",
    "def set_center(data,num_k):\n",
    "    # Madhu Yedla et al's method\n",
    "    #first check whether the dataset have negative value\n",
    "    #data should be array \n",
    "    data_pro = np.array(data)\n",
    "    for j in range(np.size(data_pro,1)):\n",
    "        if min(data_pro[:,j]) < 0:       #if dataset have negative value, then move the dataset\n",
    "            data_pro[:,j] = data_pro[:,j] - resize(min(data_pro[:,j]), np.size(data_pro,0))\n",
    "    #then calculate the distance from each point to the center of coordinator\n",
    "    distance = zeros(np.size(data_pro,0))\n",
    "    for i in range(np.size(data_pro,0)):\n",
    "        distance[i] = E_distance(data_pro[i,:], zeros(np.size(data_pro,1)))\n",
    "        #distance[1,i] = i  #save the point index of each distance\n",
    "    #order the distance\n",
    "    index = np.argsort(distance) #sort the number and get the original index\n",
    "    #divide the dataset to K different classes\n",
    "    num_per_class = int(np.size(data_pro,0)/num_k)\n",
    "    #then find the point which have the meidum distance in this class as the center  point of this classes\n",
    "    result = []\n",
    "    for k in range(0,np.size(data_pro,0),num_per_class+1):\n",
    "        result.append(index[int(k + num_per_class/2)]) #save the point index\n",
    "        \n",
    "    return result\n",
    "\n",
    "def find_center(data):\n",
    "    sum_h = 0\n",
    "    center = zeros(np.size(data,1)) #the center of dataset\n",
    "    for j in range(np.size(data,1)): #how many vertical lines we have\n",
    "        for i in range(np.size(data,0)): #how many horizontal lines we have\n",
    "            sum_h = sum_h + data[i][j]\n",
    "        center[j] = sum_h / np.size(data,0)\n",
    "    return center\n",
    "        \n",
    "def stop_or_not(center_new, center_old):\n",
    "    error = sum(np.array(center_new) - np.array(center_old))/np.size(center_new)\n",
    "    if error < 0.1:\n",
    "        return true\n",
    "    else:\n",
    "        return false\n",
    "\n",
    "def kmeans(data,k):\n",
    "    #k = set_K()\n",
    "    r = 0 # how many round we will run for kmeans\n",
    "    initial_point_index = set_center(data,k)\n",
    "    initial_point = []\n",
    "    group = []\n",
    "    past_center = []\n",
    "    center = []\n",
    "    for i in range(k):\n",
    "        initial_point.append(data[initial_point_index[i]]) \n",
    "        group.append([]) #initialize group\n",
    "        center.append(zeros(np.size(data,1))) #initialize the center array\n",
    "        past_center.append(1000*ones(np.size(data,1))) #initialize the past_center array\n",
    "    #the core of kmeans\n",
    "    while(r < 100): #(stop_or_not(center,past_center)): \n",
    "        for i in range(np.size(data,0)):\n",
    "            min_d = inf\n",
    "            g = 0\n",
    "            for j in range(k):\n",
    "                if min_d > E_distance(data[i,:],initial_point[j,:]):\n",
    "                    min_d = E_distance(data[i,:],initial_point[j,:])\n",
    "                    g = j\n",
    "            group[g].append(data[i,:]) #generate new group\n",
    "        past_center = center\n",
    "        for i in range(k):\n",
    "            initial_point[i] = find_center(group[i])\n",
    "        r = r + 1\n",
    "    return group\n",
    "    \n",
    "#read data in\n",
    "#data = [[1,2],[3,4],[5,6],[7,8],[9,10]]#(load_data(\"data.txt\"))\n",
    "#Ready to process\n",
    "#for i in range(1,max_K):\n",
    "\n",
    "    \n",
    "#data_send = [rank]*5\n",
    "#comm.send(data_send,dest=(rank+1)%size)\n",
    "#data_recv =comm.recv(source=(rank-1)%size)\n",
    "#print(\"my rank is %d, and I received:\" % rank)\n",
    "#print(data_recv)"
   ]
  },
  {
   "cell_type": "code",
   "execution_count": 190,
   "metadata": {},
   "outputs": [
    {
     "data": {
      "text/plain": [
       "2"
      ]
     },
     "execution_count": 190,
     "metadata": {},
     "output_type": "execute_result"
    }
   ],
   "source": [
    "#int((data[0,0])[0])\n",
    "#data\n",
    "a = array([1,3])\n",
    "b = array([3,4])\n",
    "pow(4-2,2)\n",
    "shape(data)[1]"
   ]
  },
  {
   "cell_type": "code",
   "execution_count": 138,
   "metadata": {},
   "outputs": [
    {
     "data": {
      "text/plain": [
       "3"
      ]
     },
     "execution_count": 138,
     "metadata": {},
     "output_type": "execute_result"
    }
   ],
   "source": [
    "#sqrt(sum(pow(a-b,2)))\n",
    "#random.rand(1,10)*10\n",
    "a = np.array([[2,2,4],[1,2,3],[2,2,3],[2,2,3]])\n",
    "len(a[1][:])\n",
    "max(a[0][:])\n",
    "a[:,0] = a[:,0] - resize(min(a[:,0]),np.size(a,0))\n",
    "np.size(a,1)"
   ]
  },
  {
   "cell_type": "code",
   "execution_count": 91,
   "metadata": {},
   "outputs": [
    {
     "data": {
      "text/plain": [
       "array([ 0,  3,  9,  2,  1, 10,  4,  5,  6,  7,  8], dtype=int64)"
      ]
     },
     "execution_count": 91,
     "metadata": {},
     "output_type": "execute_result"
    }
   ],
   "source": [
    "#resize(min(a[:][0]),np.size(a,0))\n",
    "a = np.array(a)\n",
    "a[:,0]\n",
    "b = zeros((2,np.size(a,0)))\n",
    "b[:,1]\n",
    "c = np.array([2,5,4,3,6,7,8,9,10,3,5])\n",
    "np.argsort(c)\n",
    "#int(1.8)"
   ]
  },
  {
   "cell_type": "code",
   "execution_count": 135,
   "metadata": {},
   "outputs": [
    {
     "data": {
      "image/png": "[encoded data removed]",
      "text/plain": [
       "<Figure size 432x288 with 1 Axes>"
      ]
     },
     "metadata": {
      "needs_background": "light"
     },
     "output_type": "display_data"
    }
   ],
   "source": [
    "#plot the test result of initial point\n",
    "mean = [0,0]\n",
    "cov = [[1,0],[0,1]]\n",
    "mean1 = [5,5]\n",
    "k = 2\n",
    "data = np.random.multivariate_normal(mean, cov, 5000)\n",
    "r = set_center(data,k)\n",
    "plt.plot(data[:,0],data[:,1],'.')\n",
    "\n",
    "for i in range(k):\n",
    "    plt.plot(data[r[i],0],data[r[i],1],'.')"
   ]
  },
  {
   "cell_type": "code",
   "execution_count": 176,
   "metadata": {},
   "outputs": [
    {
     "data": {
      "text/plain": [
       "15"
      ]
     },
     "execution_count": 176,
     "metadata": {},
     "output_type": "execute_result"
    }
   ],
   "source": [
    "np.size(data,1)\n",
    "d = [[],[],[],[]]\n",
    "d[0].append(1)\n",
    "d[0].append(1)\n",
    "group = []\n",
    "for i in range(k):\n",
    "        group.append([])\n",
    "group[1].append([1,2])\n",
    "group[1].append([3,4])\n",
    "group[1][0], group\n",
    "a = np.array([1,2,3,4])\n",
    "b = np.array([5,6,7,8])\n",
    "a = b\n",
    "a = a - np.array([1,1,1,1])\n",
    "c = np.array([1,2,3,4,5])\n",
    "d = np.array([1,2,3,4,5])*2\n",
    "sum(d - c)"
   ]
  },
  {
   "cell_type": "code",
   "execution_count": null,
   "metadata": {},
   "outputs": [],
   "source": []
  }
 ],
 "metadata": {
  "kernelspec": {
   "display_name": "Python 3",
   "language": "python",
   "name": "python3"
  },
  "language_info": {
   "codemirror_mode": {
    "name": "ipython",
    "version": 3
   },
   "file_extension": ".py",
   "mimetype": "text/x-python",
   "name": "python",
   "nbconvert_exporter": "python",
   "pygments_lexer": "ipython3",
   "version": "3.7.2"
  }
 },
 "nbformat": 4,
 "nbformat_minor": 2
}
